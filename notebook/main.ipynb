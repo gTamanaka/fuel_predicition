{
 "cells": [
  {
   "cell_type": "markdown",
   "metadata": {},
   "source": [
    "# Forecastng Fuel Pricing"
   ]
  },
  {
   "cell_type": "markdown",
   "metadata": {},
   "source": [
    "# Importanto as bibliotecas"
   ]
  },
  {
   "cell_type": "code",
   "execution_count": 1,
   "metadata": {},
   "outputs": [],
   "source": [
    "%config IPCompleter.greedy=True #Autocomplete\n",
    "\n",
    "import pandas as pd #Importar pandas\n",
    "import sklearn as skt\n",
    "from sklearn.model_selection import train_test_split , cross_val_score\n",
    "from sklearn import preprocessing\n",
    "from sklearn.linear_model import LinearRegression, Ridge\n",
    "from sklearn import svm\n",
    "import matplotlib.pyplot as plt\n",
    "import math\n",
    "import numpy as np\n",
    "import seaborn as sns\n",
    "\n",
    "pd.options.mode.chained_assignment = None"
   ]
  },
  {
   "cell_type": "markdown",
   "metadata": {},
   "source": [
    "# Importanto os dados\n",
    "Primeiramente, os dados contidos no tsv precisam ser importatos para serem utilizados no processo, os mesmo também precisam ser unidos em um *dataframe* único"
   ]
  },
  {
   "cell_type": "code",
   "execution_count": 2,
   "metadata": {},
   "outputs": [],
   "source": [
    "df1 = pd.read_csv('./gas-prices-in-brazil/2004-2012.tsv',sep='\\t', header=0)\n",
    "df2 = pd.read_csv('./gas-prices-in-brazil/2013-2019.tsv',sep='\\t', header=0)"
   ]
  },
  {
   "cell_type": "code",
   "execution_count": 3,
   "metadata": {},
   "outputs": [
    {
     "data": {
      "text/html": [
       "<div>\n",
       "<style scoped>\n",
       "    .dataframe tbody tr th:only-of-type {\n",
       "        vertical-align: middle;\n",
       "    }\n",
       "\n",
       "    .dataframe tbody tr th {\n",
       "        vertical-align: top;\n",
       "    }\n",
       "\n",
       "    .dataframe thead th {\n",
       "        text-align: right;\n",
       "    }\n",
       "</style>\n",
       "<table border=\"1\" class=\"dataframe\">\n",
       "  <thead>\n",
       "    <tr style=\"text-align: right;\">\n",
       "      <th></th>\n",
       "      <th>DATA INICIAL</th>\n",
       "      <th>DATA FINAL</th>\n",
       "      <th>REGIÃO</th>\n",
       "      <th>ESTADO</th>\n",
       "      <th>PRODUTO</th>\n",
       "      <th>NÚMERO DE POSTOS PESQUISADOS</th>\n",
       "      <th>UNIDADE DE MEDIDA</th>\n",
       "      <th>PREÇO MÉDIO REVENDA</th>\n",
       "      <th>DESVIO PADRÃO REVENDA</th>\n",
       "      <th>PREÇO MÍNIMO REVENDA</th>\n",
       "      <th>PREÇO MÁXIMO REVENDA</th>\n",
       "      <th>MARGEM MÉDIA REVENDA</th>\n",
       "      <th>COEF DE VARIAÇÃO REVENDA</th>\n",
       "      <th>PREÇO MÉDIO DISTRIBUIÇÃO</th>\n",
       "      <th>DESVIO PADRÃO DISTRIBUIÇÃO</th>\n",
       "      <th>PREÇO MÍNIMO DISTRIBUIÇÃO</th>\n",
       "      <th>PREÇO MÁXIMO DISTRIBUIÇÃO</th>\n",
       "      <th>COEF DE VARIAÇÃO DISTRIBUIÇÃO</th>\n",
       "      <th>ANO</th>\n",
       "      <th>MÊS</th>\n",
       "    </tr>\n",
       "  </thead>\n",
       "  <tbody>\n",
       "    <tr>\n",
       "      <th>0</th>\n",
       "      <td>09/05/2004</td>\n",
       "      <td>15/05/2004</td>\n",
       "      <td>CENTRO OESTE</td>\n",
       "      <td>DISTRITO FEDERAL</td>\n",
       "      <td>ETANOL HIDRATADO</td>\n",
       "      <td>127</td>\n",
       "      <td>R$/l</td>\n",
       "      <td>1288.0</td>\n",
       "      <td>16</td>\n",
       "      <td>1.19</td>\n",
       "      <td>1.35</td>\n",
       "      <td>463</td>\n",
       "      <td>12</td>\n",
       "      <td>825</td>\n",
       "      <td>0.11</td>\n",
       "      <td>0.4201</td>\n",
       "      <td>0.9666</td>\n",
       "      <td>133</td>\n",
       "      <td>2004</td>\n",
       "      <td>5</td>\n",
       "    </tr>\n",
       "    <tr>\n",
       "      <th>1</th>\n",
       "      <td>09/05/2004</td>\n",
       "      <td>15/05/2004</td>\n",
       "      <td>CENTRO OESTE</td>\n",
       "      <td>GOIAS</td>\n",
       "      <td>ETANOL HIDRATADO</td>\n",
       "      <td>387</td>\n",
       "      <td>R$/l</td>\n",
       "      <td>1162.0</td>\n",
       "      <td>114</td>\n",
       "      <td>0.89</td>\n",
       "      <td>1449</td>\n",
       "      <td>399</td>\n",
       "      <td>98</td>\n",
       "      <td>763</td>\n",
       "      <td>88</td>\n",
       "      <td>0.5013</td>\n",
       "      <td>1.05</td>\n",
       "      <td>115</td>\n",
       "      <td>2004</td>\n",
       "      <td>5</td>\n",
       "    </tr>\n",
       "    <tr>\n",
       "      <th>2</th>\n",
       "      <td>09/05/2004</td>\n",
       "      <td>15/05/2004</td>\n",
       "      <td>CENTRO OESTE</td>\n",
       "      <td>MATO GROSSO</td>\n",
       "      <td>ETANOL HIDRATADO</td>\n",
       "      <td>192</td>\n",
       "      <td>R$/l</td>\n",
       "      <td>1389.0</td>\n",
       "      <td>97</td>\n",
       "      <td>1.18</td>\n",
       "      <td>1.76</td>\n",
       "      <td>419</td>\n",
       "      <td>0.07</td>\n",
       "      <td>0.97</td>\n",
       "      <td>95</td>\n",
       "      <td>0.5614</td>\n",
       "      <td>1161</td>\n",
       "      <td>98</td>\n",
       "      <td>2004</td>\n",
       "      <td>5</td>\n",
       "    </tr>\n",
       "    <tr>\n",
       "      <th>3</th>\n",
       "      <td>09/05/2004</td>\n",
       "      <td>15/05/2004</td>\n",
       "      <td>CENTRO OESTE</td>\n",
       "      <td>MATO GROSSO DO SUL</td>\n",
       "      <td>ETANOL HIDRATADO</td>\n",
       "      <td>162</td>\n",
       "      <td>R$/l</td>\n",
       "      <td>1262.0</td>\n",
       "      <td>0.07</td>\n",
       "      <td>1.09</td>\n",
       "      <td>1509</td>\n",
       "      <td>432</td>\n",
       "      <td>55</td>\n",
       "      <td>0.83</td>\n",
       "      <td>119</td>\n",
       "      <td>0.5991</td>\n",
       "      <td>1.22242</td>\n",
       "      <td>143</td>\n",
       "      <td>2004</td>\n",
       "      <td>5</td>\n",
       "    </tr>\n",
       "    <tr>\n",
       "      <th>4</th>\n",
       "      <td>09/05/2004</td>\n",
       "      <td>15/05/2004</td>\n",
       "      <td>NORDESTE</td>\n",
       "      <td>ALAGOAS</td>\n",
       "      <td>ETANOL HIDRATADO</td>\n",
       "      <td>103</td>\n",
       "      <td>R$/l</td>\n",
       "      <td>1181.0</td>\n",
       "      <td>78</td>\n",
       "      <td>1.05</td>\n",
       "      <td>1.4</td>\n",
       "      <td>0.24</td>\n",
       "      <td>66</td>\n",
       "      <td>941</td>\n",
       "      <td>77</td>\n",
       "      <td>0.7441</td>\n",
       "      <td>1.0317</td>\n",
       "      <td>82</td>\n",
       "      <td>2004</td>\n",
       "      <td>5</td>\n",
       "    </tr>\n",
       "  </tbody>\n",
       "</table>\n",
       "</div>"
      ],
      "text/plain": [
       "  DATA INICIAL  DATA FINAL        REGIÃO              ESTADO  \\\n",
       "0   09/05/2004  15/05/2004  CENTRO OESTE    DISTRITO FEDERAL   \n",
       "1   09/05/2004  15/05/2004  CENTRO OESTE               GOIAS   \n",
       "2   09/05/2004  15/05/2004  CENTRO OESTE         MATO GROSSO   \n",
       "3   09/05/2004  15/05/2004  CENTRO OESTE  MATO GROSSO DO SUL   \n",
       "4   09/05/2004  15/05/2004      NORDESTE             ALAGOAS   \n",
       "\n",
       "            PRODUTO  NÚMERO DE POSTOS PESQUISADOS UNIDADE DE MEDIDA  \\\n",
       "0  ETANOL HIDRATADO                           127              R$/l   \n",
       "1  ETANOL HIDRATADO                           387              R$/l   \n",
       "2  ETANOL HIDRATADO                           192              R$/l   \n",
       "3  ETANOL HIDRATADO                           162              R$/l   \n",
       "4  ETANOL HIDRATADO                           103              R$/l   \n",
       "\n",
       "   PREÇO MÉDIO REVENDA DESVIO PADRÃO REVENDA PREÇO MÍNIMO REVENDA  \\\n",
       "0               1288.0                    16                 1.19   \n",
       "1               1162.0                   114                 0.89   \n",
       "2               1389.0                    97                 1.18   \n",
       "3               1262.0                  0.07                 1.09   \n",
       "4               1181.0                    78                 1.05   \n",
       "\n",
       "  PREÇO MÁXIMO REVENDA MARGEM MÉDIA REVENDA COEF DE VARIAÇÃO REVENDA  \\\n",
       "0                 1.35                  463                       12   \n",
       "1                 1449                  399                       98   \n",
       "2                 1.76                  419                     0.07   \n",
       "3                 1509                  432                       55   \n",
       "4                  1.4                 0.24                       66   \n",
       "\n",
       "  PREÇO MÉDIO DISTRIBUIÇÃO DESVIO PADRÃO DISTRIBUIÇÃO  \\\n",
       "0                      825                       0.11   \n",
       "1                      763                         88   \n",
       "2                     0.97                         95   \n",
       "3                     0.83                        119   \n",
       "4                      941                         77   \n",
       "\n",
       "  PREÇO MÍNIMO DISTRIBUIÇÃO PREÇO MÁXIMO DISTRIBUIÇÃO  \\\n",
       "0                    0.4201                    0.9666   \n",
       "1                    0.5013                      1.05   \n",
       "2                    0.5614                      1161   \n",
       "3                    0.5991                   1.22242   \n",
       "4                    0.7441                    1.0317   \n",
       "\n",
       "  COEF DE VARIAÇÃO DISTRIBUIÇÃO   ANO  MÊS  \n",
       "0                           133  2004    5  \n",
       "1                           115  2004    5  \n",
       "2                            98  2004    5  \n",
       "3                           143  2004    5  \n",
       "4                            82  2004    5  "
      ]
     },
     "execution_count": 3,
     "metadata": {},
     "output_type": "execute_result"
    }
   ],
   "source": [
    "df = df1.append(df2, ignore_index=True)\n",
    "df.head(5)"
   ]
  },
  {
   "cell_type": "code",
   "execution_count": 4,
   "metadata": {
    "scrolled": true
   },
   "outputs": [
    {
     "data": {
      "text/plain": [
       "['DATA INICIAL',\n",
       " 'DATA FINAL',\n",
       " 'REGIÃO',\n",
       " 'ESTADO',\n",
       " 'PRODUTO',\n",
       " 'NÚMERO DE POSTOS PESQUISADOS',\n",
       " 'UNIDADE DE MEDIDA',\n",
       " 'PREÇO MÉDIO REVENDA',\n",
       " 'DESVIO PADRÃO REVENDA',\n",
       " 'PREÇO MÍNIMO REVENDA',\n",
       " 'PREÇO MÁXIMO REVENDA',\n",
       " 'MARGEM MÉDIA REVENDA',\n",
       " 'COEF DE VARIAÇÃO REVENDA',\n",
       " 'PREÇO MÉDIO DISTRIBUIÇÃO',\n",
       " 'DESVIO PADRÃO DISTRIBUIÇÃO',\n",
       " 'PREÇO MÍNIMO DISTRIBUIÇÃO',\n",
       " 'PREÇO MÁXIMO DISTRIBUIÇÃO',\n",
       " 'COEF DE VARIAÇÃO DISTRIBUIÇÃO',\n",
       " 'ANO',\n",
       " 'MÊS']"
      ]
     },
     "execution_count": 4,
     "metadata": {},
     "output_type": "execute_result"
    }
   ],
   "source": [
    "list(df.columns)"
   ]
  },
  {
   "cell_type": "markdown",
   "metadata": {},
   "source": [
    "# Separando os dados\n",
    "A seguir apenas os dados relevantes são mantidos para o modelo de regressão"
   ]
  },
  {
   "cell_type": "code",
   "execution_count": 5,
   "metadata": {},
   "outputs": [],
   "source": [
    "df_separation = df.drop([\"NÚMERO DE POSTOS PESQUISADOS\",\"UNIDADE DE MEDIDA\", \"DATA FINAL\", \"ANO\", \"MÊS\"],axis=1)\n"
   ]
  },
  {
   "cell_type": "code",
   "execution_count": 6,
   "metadata": {},
   "outputs": [],
   "source": [
    "df_separation = df_separation[df_separation[\"PRODUTO\"]==\"GASOLINA COMUM\"]"
   ]
  },
  {
   "cell_type": "code",
   "execution_count": 7,
   "metadata": {},
   "outputs": [
    {
     "data": {
      "text/html": [
       "<div>\n",
       "<style scoped>\n",
       "    .dataframe tbody tr th:only-of-type {\n",
       "        vertical-align: middle;\n",
       "    }\n",
       "\n",
       "    .dataframe tbody tr th {\n",
       "        vertical-align: top;\n",
       "    }\n",
       "\n",
       "    .dataframe thead th {\n",
       "        text-align: right;\n",
       "    }\n",
       "</style>\n",
       "<table border=\"1\" class=\"dataframe\">\n",
       "  <thead>\n",
       "    <tr style=\"text-align: right;\">\n",
       "      <th></th>\n",
       "      <th>DATA INICIAL</th>\n",
       "      <th>REGIÃO</th>\n",
       "      <th>ESTADO</th>\n",
       "      <th>PRODUTO</th>\n",
       "      <th>PREÇO MÉDIO REVENDA</th>\n",
       "      <th>DESVIO PADRÃO REVENDA</th>\n",
       "      <th>PREÇO MÍNIMO REVENDA</th>\n",
       "      <th>PREÇO MÁXIMO REVENDA</th>\n",
       "      <th>MARGEM MÉDIA REVENDA</th>\n",
       "      <th>COEF DE VARIAÇÃO REVENDA</th>\n",
       "      <th>PREÇO MÉDIO DISTRIBUIÇÃO</th>\n",
       "      <th>DESVIO PADRÃO DISTRIBUIÇÃO</th>\n",
       "      <th>PREÇO MÍNIMO DISTRIBUIÇÃO</th>\n",
       "      <th>PREÇO MÁXIMO DISTRIBUIÇÃO</th>\n",
       "      <th>COEF DE VARIAÇÃO DISTRIBUIÇÃO</th>\n",
       "    </tr>\n",
       "  </thead>\n",
       "  <tbody>\n",
       "    <tr>\n",
       "      <th>12064</th>\n",
       "      <td>09/05/2004</td>\n",
       "      <td>CENTRO OESTE</td>\n",
       "      <td>DISTRITO FEDERAL</td>\n",
       "      <td>GASOLINA COMUM</td>\n",
       "      <td>2029.00</td>\n",
       "      <td>7</td>\n",
       "      <td>1.99</td>\n",
       "      <td>2.07</td>\n",
       "      <td>318</td>\n",
       "      <td>3</td>\n",
       "      <td>1711</td>\n",
       "      <td>0.02</td>\n",
       "      <td>1651</td>\n",
       "      <td>1.7427</td>\n",
       "      <td>12</td>\n",
       "    </tr>\n",
       "    <tr>\n",
       "      <th>12065</th>\n",
       "      <td>09/05/2004</td>\n",
       "      <td>CENTRO OESTE</td>\n",
       "      <td>GOIAS</td>\n",
       "      <td>GASOLINA COMUM</td>\n",
       "      <td>2025.00</td>\n",
       "      <td>62</td>\n",
       "      <td>1.85</td>\n",
       "      <td>2.22</td>\n",
       "      <td>296</td>\n",
       "      <td>31</td>\n",
       "      <td>1729</td>\n",
       "      <td>36</td>\n",
       "      <td>1.6643</td>\n",
       "      <td>1915</td>\n",
       "      <td>21</td>\n",
       "    </tr>\n",
       "    <tr>\n",
       "      <th>12066</th>\n",
       "      <td>09/05/2004</td>\n",
       "      <td>CENTRO OESTE</td>\n",
       "      <td>MATO GROSSO</td>\n",
       "      <td>GASOLINA COMUM</td>\n",
       "      <td>2358.00</td>\n",
       "      <td>66</td>\n",
       "      <td>2</td>\n",
       "      <td>2.54</td>\n",
       "      <td>472</td>\n",
       "      <td>28</td>\n",
       "      <td>1886</td>\n",
       "      <td>68</td>\n",
       "      <td>1.75</td>\n",
       "      <td>2.0713</td>\n",
       "      <td>36</td>\n",
       "    </tr>\n",
       "    <tr>\n",
       "      <th>12067</th>\n",
       "      <td>09/05/2004</td>\n",
       "      <td>CENTRO OESTE</td>\n",
       "      <td>MATO GROSSO DO SUL</td>\n",
       "      <td>GASOLINA COMUM</td>\n",
       "      <td>2.12</td>\n",
       "      <td>75</td>\n",
       "      <td>1.97</td>\n",
       "      <td>2.44</td>\n",
       "      <td>325</td>\n",
       "      <td>35</td>\n",
       "      <td>1795</td>\n",
       "      <td>33</td>\n",
       "      <td>1.70701</td>\n",
       "      <td>1.9703</td>\n",
       "      <td>18</td>\n",
       "    </tr>\n",
       "    <tr>\n",
       "      <th>12068</th>\n",
       "      <td>09/05/2004</td>\n",
       "      <td>NORDESTE</td>\n",
       "      <td>ALAGOAS</td>\n",
       "      <td>GASOLINA COMUM</td>\n",
       "      <td>2.09</td>\n",
       "      <td>34</td>\n",
       "      <td>2</td>\n",
       "      <td>2159</td>\n",
       "      <td>0.35</td>\n",
       "      <td>16</td>\n",
       "      <td>1.74</td>\n",
       "      <td>42</td>\n",
       "      <td>1.6789</td>\n",
       "      <td>1918</td>\n",
       "      <td>24</td>\n",
       "    </tr>\n",
       "  </tbody>\n",
       "</table>\n",
       "</div>"
      ],
      "text/plain": [
       "      DATA INICIAL        REGIÃO              ESTADO         PRODUTO  \\\n",
       "12064   09/05/2004  CENTRO OESTE    DISTRITO FEDERAL  GASOLINA COMUM   \n",
       "12065   09/05/2004  CENTRO OESTE               GOIAS  GASOLINA COMUM   \n",
       "12066   09/05/2004  CENTRO OESTE         MATO GROSSO  GASOLINA COMUM   \n",
       "12067   09/05/2004  CENTRO OESTE  MATO GROSSO DO SUL  GASOLINA COMUM   \n",
       "12068   09/05/2004      NORDESTE             ALAGOAS  GASOLINA COMUM   \n",
       "\n",
       "       PREÇO MÉDIO REVENDA DESVIO PADRÃO REVENDA PREÇO MÍNIMO REVENDA  \\\n",
       "12064              2029.00                     7                 1.99   \n",
       "12065              2025.00                    62                 1.85   \n",
       "12066              2358.00                    66                    2   \n",
       "12067                 2.12                    75                 1.97   \n",
       "12068                 2.09                    34                    2   \n",
       "\n",
       "      PREÇO MÁXIMO REVENDA MARGEM MÉDIA REVENDA COEF DE VARIAÇÃO REVENDA  \\\n",
       "12064                 2.07                  318                        3   \n",
       "12065                 2.22                  296                       31   \n",
       "12066                 2.54                  472                       28   \n",
       "12067                 2.44                  325                       35   \n",
       "12068                 2159                 0.35                       16   \n",
       "\n",
       "      PREÇO MÉDIO DISTRIBUIÇÃO DESVIO PADRÃO DISTRIBUIÇÃO  \\\n",
       "12064                     1711                       0.02   \n",
       "12065                     1729                         36   \n",
       "12066                     1886                         68   \n",
       "12067                     1795                         33   \n",
       "12068                     1.74                         42   \n",
       "\n",
       "      PREÇO MÍNIMO DISTRIBUIÇÃO PREÇO MÁXIMO DISTRIBUIÇÃO  \\\n",
       "12064                      1651                    1.7427   \n",
       "12065                    1.6643                      1915   \n",
       "12066                      1.75                    2.0713   \n",
       "12067                   1.70701                    1.9703   \n",
       "12068                    1.6789                      1918   \n",
       "\n",
       "      COEF DE VARIAÇÃO DISTRIBUIÇÃO  \n",
       "12064                            12  \n",
       "12065                            21  \n",
       "12066                            36  \n",
       "12067                            18  \n",
       "12068                            24  "
      ]
     },
     "execution_count": 7,
     "metadata": {},
     "output_type": "execute_result"
    }
   ],
   "source": [
    "df_separation.head()"
   ]
  },
  {
   "cell_type": "markdown",
   "metadata": {},
   "source": [
    "# Tratamento de dados\n",
    "Os dados a seguir são convertidos para tipos que podem ser utilizados nos modelos de regressão.  Os dados do tipo *string* são modificados para valores númericos, como não existe correlação direta entre os dados e os valores a distribuição é feita na ordem que aparecem, por exemplo, o Estado não tem coreelação direta com o valor, portanto, apenas uma lista númerica é aplicada ao mesmo"
   ]
  },
  {
   "cell_type": "code",
   "execution_count": 8,
   "metadata": {},
   "outputs": [
    {
     "data": {
      "text/html": [
       "<div>\n",
       "<style scoped>\n",
       "    .dataframe tbody tr th:only-of-type {\n",
       "        vertical-align: middle;\n",
       "    }\n",
       "\n",
       "    .dataframe tbody tr th {\n",
       "        vertical-align: top;\n",
       "    }\n",
       "\n",
       "    .dataframe thead th {\n",
       "        text-align: right;\n",
       "    }\n",
       "</style>\n",
       "<table border=\"1\" class=\"dataframe\">\n",
       "  <thead>\n",
       "    <tr style=\"text-align: right;\">\n",
       "      <th></th>\n",
       "      <th>DATA INICIAL</th>\n",
       "      <th>REGIÃO</th>\n",
       "      <th>ESTADO</th>\n",
       "      <th>PRODUTO</th>\n",
       "      <th>PREÇO MÉDIO REVENDA</th>\n",
       "      <th>DESVIO PADRÃO REVENDA</th>\n",
       "      <th>PREÇO MÍNIMO REVENDA</th>\n",
       "      <th>PREÇO MÁXIMO REVENDA</th>\n",
       "      <th>MARGEM MÉDIA REVENDA</th>\n",
       "      <th>COEF DE VARIAÇÃO REVENDA</th>\n",
       "      <th>PREÇO MÉDIO DISTRIBUIÇÃO</th>\n",
       "      <th>DESVIO PADRÃO DISTRIBUIÇÃO</th>\n",
       "      <th>PREÇO MÍNIMO DISTRIBUIÇÃO</th>\n",
       "      <th>PREÇO MÁXIMO DISTRIBUIÇÃO</th>\n",
       "      <th>COEF DE VARIAÇÃO DISTRIBUIÇÃO</th>\n",
       "    </tr>\n",
       "  </thead>\n",
       "  <tbody>\n",
       "    <tr>\n",
       "      <th>12064</th>\n",
       "      <td>09/05/2004</td>\n",
       "      <td>0</td>\n",
       "      <td>DISTRITO FEDERAL</td>\n",
       "      <td>GASOLINA COMUM</td>\n",
       "      <td>2029.00</td>\n",
       "      <td>7</td>\n",
       "      <td>1.99</td>\n",
       "      <td>2.07</td>\n",
       "      <td>318</td>\n",
       "      <td>3</td>\n",
       "      <td>1711</td>\n",
       "      <td>0.02</td>\n",
       "      <td>1651</td>\n",
       "      <td>1.7427</td>\n",
       "      <td>12</td>\n",
       "    </tr>\n",
       "    <tr>\n",
       "      <th>12065</th>\n",
       "      <td>09/05/2004</td>\n",
       "      <td>0</td>\n",
       "      <td>GOIAS</td>\n",
       "      <td>GASOLINA COMUM</td>\n",
       "      <td>2025.00</td>\n",
       "      <td>62</td>\n",
       "      <td>1.85</td>\n",
       "      <td>2.22</td>\n",
       "      <td>296</td>\n",
       "      <td>31</td>\n",
       "      <td>1729</td>\n",
       "      <td>36</td>\n",
       "      <td>1.6643</td>\n",
       "      <td>1915</td>\n",
       "      <td>21</td>\n",
       "    </tr>\n",
       "    <tr>\n",
       "      <th>12066</th>\n",
       "      <td>09/05/2004</td>\n",
       "      <td>0</td>\n",
       "      <td>MATO GROSSO</td>\n",
       "      <td>GASOLINA COMUM</td>\n",
       "      <td>2358.00</td>\n",
       "      <td>66</td>\n",
       "      <td>2</td>\n",
       "      <td>2.54</td>\n",
       "      <td>472</td>\n",
       "      <td>28</td>\n",
       "      <td>1886</td>\n",
       "      <td>68</td>\n",
       "      <td>1.75</td>\n",
       "      <td>2.0713</td>\n",
       "      <td>36</td>\n",
       "    </tr>\n",
       "    <tr>\n",
       "      <th>12067</th>\n",
       "      <td>09/05/2004</td>\n",
       "      <td>0</td>\n",
       "      <td>MATO GROSSO DO SUL</td>\n",
       "      <td>GASOLINA COMUM</td>\n",
       "      <td>2.12</td>\n",
       "      <td>75</td>\n",
       "      <td>1.97</td>\n",
       "      <td>2.44</td>\n",
       "      <td>325</td>\n",
       "      <td>35</td>\n",
       "      <td>1795</td>\n",
       "      <td>33</td>\n",
       "      <td>1.70701</td>\n",
       "      <td>1.9703</td>\n",
       "      <td>18</td>\n",
       "    </tr>\n",
       "    <tr>\n",
       "      <th>12068</th>\n",
       "      <td>09/05/2004</td>\n",
       "      <td>1</td>\n",
       "      <td>ALAGOAS</td>\n",
       "      <td>GASOLINA COMUM</td>\n",
       "      <td>2.09</td>\n",
       "      <td>34</td>\n",
       "      <td>2</td>\n",
       "      <td>2159</td>\n",
       "      <td>0.35</td>\n",
       "      <td>16</td>\n",
       "      <td>1.74</td>\n",
       "      <td>42</td>\n",
       "      <td>1.6789</td>\n",
       "      <td>1918</td>\n",
       "      <td>24</td>\n",
       "    </tr>\n",
       "  </tbody>\n",
       "</table>\n",
       "</div>"
      ],
      "text/plain": [
       "      DATA INICIAL  REGIÃO              ESTADO         PRODUTO  \\\n",
       "12064   09/05/2004       0    DISTRITO FEDERAL  GASOLINA COMUM   \n",
       "12065   09/05/2004       0               GOIAS  GASOLINA COMUM   \n",
       "12066   09/05/2004       0         MATO GROSSO  GASOLINA COMUM   \n",
       "12067   09/05/2004       0  MATO GROSSO DO SUL  GASOLINA COMUM   \n",
       "12068   09/05/2004       1             ALAGOAS  GASOLINA COMUM   \n",
       "\n",
       "       PREÇO MÉDIO REVENDA DESVIO PADRÃO REVENDA PREÇO MÍNIMO REVENDA  \\\n",
       "12064              2029.00                     7                 1.99   \n",
       "12065              2025.00                    62                 1.85   \n",
       "12066              2358.00                    66                    2   \n",
       "12067                 2.12                    75                 1.97   \n",
       "12068                 2.09                    34                    2   \n",
       "\n",
       "      PREÇO MÁXIMO REVENDA MARGEM MÉDIA REVENDA COEF DE VARIAÇÃO REVENDA  \\\n",
       "12064                 2.07                  318                        3   \n",
       "12065                 2.22                  296                       31   \n",
       "12066                 2.54                  472                       28   \n",
       "12067                 2.44                  325                       35   \n",
       "12068                 2159                 0.35                       16   \n",
       "\n",
       "      PREÇO MÉDIO DISTRIBUIÇÃO DESVIO PADRÃO DISTRIBUIÇÃO  \\\n",
       "12064                     1711                       0.02   \n",
       "12065                     1729                         36   \n",
       "12066                     1886                         68   \n",
       "12067                     1795                         33   \n",
       "12068                     1.74                         42   \n",
       "\n",
       "      PREÇO MÍNIMO DISTRIBUIÇÃO PREÇO MÁXIMO DISTRIBUIÇÃO  \\\n",
       "12064                      1651                    1.7427   \n",
       "12065                    1.6643                      1915   \n",
       "12066                      1.75                    2.0713   \n",
       "12067                   1.70701                    1.9703   \n",
       "12068                    1.6789                      1918   \n",
       "\n",
       "      COEF DE VARIAÇÃO DISTRIBUIÇÃO  \n",
       "12064                            12  \n",
       "12065                            21  \n",
       "12066                            36  \n",
       "12067                            18  \n",
       "12068                            24  "
      ]
     },
     "execution_count": 8,
     "metadata": {},
     "output_type": "execute_result"
    }
   ],
   "source": [
    "# c = df[\"REGIÃO\"].astype(\"category\")\n",
    "# d = dict(enumerate(c.cat.categories))\n",
    "# print(d)\n",
    "df_separation[\"REGIÃO\"] = df_separation[\"REGIÃO\"].astype(\"category\").cat.codes\n",
    "df_separation.head()"
   ]
  },
  {
   "cell_type": "code",
   "execution_count": 9,
   "metadata": {},
   "outputs": [
    {
     "name": "stdout",
     "output_type": "stream",
     "text": [
      "{0: 'ACRE', 1: 'ALAGOAS', 2: 'AMAPA', 3: 'AMAZONAS', 4: 'BAHIA', 5: 'CEARA', 6: 'DISTRITO FEDERAL', 7: 'ESPIRITO SANTO', 8: 'GOIAS', 9: 'MARANHAO', 10: 'MATO GROSSO', 11: 'MATO GROSSO DO SUL', 12: 'MINAS GERAIS', 13: 'PARA', 14: 'PARAIBA', 15: 'PARANA', 16: 'PERNAMBUCO', 17: 'PIAUI', 18: 'RIO DE JANEIRO', 19: 'RIO GRANDE DO NORTE', 20: 'RIO GRANDE DO SUL', 21: 'RONDONIA', 22: 'RORAIMA', 23: 'SANTA CATARINA', 24: 'SAO PAULO', 25: 'SERGIPE', 26: 'TOCANTINS'}\n"
     ]
    },
    {
     "data": {
      "text/html": [
       "<div>\n",
       "<style scoped>\n",
       "    .dataframe tbody tr th:only-of-type {\n",
       "        vertical-align: middle;\n",
       "    }\n",
       "\n",
       "    .dataframe tbody tr th {\n",
       "        vertical-align: top;\n",
       "    }\n",
       "\n",
       "    .dataframe thead th {\n",
       "        text-align: right;\n",
       "    }\n",
       "</style>\n",
       "<table border=\"1\" class=\"dataframe\">\n",
       "  <thead>\n",
       "    <tr style=\"text-align: right;\">\n",
       "      <th></th>\n",
       "      <th>DATA INICIAL</th>\n",
       "      <th>REGIÃO</th>\n",
       "      <th>ESTADO</th>\n",
       "      <th>PRODUTO</th>\n",
       "      <th>PREÇO MÉDIO REVENDA</th>\n",
       "      <th>DESVIO PADRÃO REVENDA</th>\n",
       "      <th>PREÇO MÍNIMO REVENDA</th>\n",
       "      <th>PREÇO MÁXIMO REVENDA</th>\n",
       "      <th>MARGEM MÉDIA REVENDA</th>\n",
       "      <th>COEF DE VARIAÇÃO REVENDA</th>\n",
       "      <th>PREÇO MÉDIO DISTRIBUIÇÃO</th>\n",
       "      <th>DESVIO PADRÃO DISTRIBUIÇÃO</th>\n",
       "      <th>PREÇO MÍNIMO DISTRIBUIÇÃO</th>\n",
       "      <th>PREÇO MÁXIMO DISTRIBUIÇÃO</th>\n",
       "      <th>COEF DE VARIAÇÃO DISTRIBUIÇÃO</th>\n",
       "    </tr>\n",
       "  </thead>\n",
       "  <tbody>\n",
       "    <tr>\n",
       "      <th>12064</th>\n",
       "      <td>09/05/2004</td>\n",
       "      <td>0</td>\n",
       "      <td>6</td>\n",
       "      <td>GASOLINA COMUM</td>\n",
       "      <td>2029.00</td>\n",
       "      <td>7</td>\n",
       "      <td>1.99</td>\n",
       "      <td>2.07</td>\n",
       "      <td>318</td>\n",
       "      <td>3</td>\n",
       "      <td>1711</td>\n",
       "      <td>0.02</td>\n",
       "      <td>1651</td>\n",
       "      <td>1.7427</td>\n",
       "      <td>12</td>\n",
       "    </tr>\n",
       "    <tr>\n",
       "      <th>12065</th>\n",
       "      <td>09/05/2004</td>\n",
       "      <td>0</td>\n",
       "      <td>8</td>\n",
       "      <td>GASOLINA COMUM</td>\n",
       "      <td>2025.00</td>\n",
       "      <td>62</td>\n",
       "      <td>1.85</td>\n",
       "      <td>2.22</td>\n",
       "      <td>296</td>\n",
       "      <td>31</td>\n",
       "      <td>1729</td>\n",
       "      <td>36</td>\n",
       "      <td>1.6643</td>\n",
       "      <td>1915</td>\n",
       "      <td>21</td>\n",
       "    </tr>\n",
       "    <tr>\n",
       "      <th>12066</th>\n",
       "      <td>09/05/2004</td>\n",
       "      <td>0</td>\n",
       "      <td>10</td>\n",
       "      <td>GASOLINA COMUM</td>\n",
       "      <td>2358.00</td>\n",
       "      <td>66</td>\n",
       "      <td>2</td>\n",
       "      <td>2.54</td>\n",
       "      <td>472</td>\n",
       "      <td>28</td>\n",
       "      <td>1886</td>\n",
       "      <td>68</td>\n",
       "      <td>1.75</td>\n",
       "      <td>2.0713</td>\n",
       "      <td>36</td>\n",
       "    </tr>\n",
       "    <tr>\n",
       "      <th>12067</th>\n",
       "      <td>09/05/2004</td>\n",
       "      <td>0</td>\n",
       "      <td>11</td>\n",
       "      <td>GASOLINA COMUM</td>\n",
       "      <td>2.12</td>\n",
       "      <td>75</td>\n",
       "      <td>1.97</td>\n",
       "      <td>2.44</td>\n",
       "      <td>325</td>\n",
       "      <td>35</td>\n",
       "      <td>1795</td>\n",
       "      <td>33</td>\n",
       "      <td>1.70701</td>\n",
       "      <td>1.9703</td>\n",
       "      <td>18</td>\n",
       "    </tr>\n",
       "    <tr>\n",
       "      <th>12068</th>\n",
       "      <td>09/05/2004</td>\n",
       "      <td>1</td>\n",
       "      <td>1</td>\n",
       "      <td>GASOLINA COMUM</td>\n",
       "      <td>2.09</td>\n",
       "      <td>34</td>\n",
       "      <td>2</td>\n",
       "      <td>2159</td>\n",
       "      <td>0.35</td>\n",
       "      <td>16</td>\n",
       "      <td>1.74</td>\n",
       "      <td>42</td>\n",
       "      <td>1.6789</td>\n",
       "      <td>1918</td>\n",
       "      <td>24</td>\n",
       "    </tr>\n",
       "  </tbody>\n",
       "</table>\n",
       "</div>"
      ],
      "text/plain": [
       "      DATA INICIAL  REGIÃO  ESTADO         PRODUTO  PREÇO MÉDIO REVENDA  \\\n",
       "12064   09/05/2004       0       6  GASOLINA COMUM              2029.00   \n",
       "12065   09/05/2004       0       8  GASOLINA COMUM              2025.00   \n",
       "12066   09/05/2004       0      10  GASOLINA COMUM              2358.00   \n",
       "12067   09/05/2004       0      11  GASOLINA COMUM                 2.12   \n",
       "12068   09/05/2004       1       1  GASOLINA COMUM                 2.09   \n",
       "\n",
       "      DESVIO PADRÃO REVENDA PREÇO MÍNIMO REVENDA PREÇO MÁXIMO REVENDA  \\\n",
       "12064                     7                 1.99                 2.07   \n",
       "12065                    62                 1.85                 2.22   \n",
       "12066                    66                    2                 2.54   \n",
       "12067                    75                 1.97                 2.44   \n",
       "12068                    34                    2                 2159   \n",
       "\n",
       "      MARGEM MÉDIA REVENDA COEF DE VARIAÇÃO REVENDA PREÇO MÉDIO DISTRIBUIÇÃO  \\\n",
       "12064                  318                        3                     1711   \n",
       "12065                  296                       31                     1729   \n",
       "12066                  472                       28                     1886   \n",
       "12067                  325                       35                     1795   \n",
       "12068                 0.35                       16                     1.74   \n",
       "\n",
       "      DESVIO PADRÃO DISTRIBUIÇÃO PREÇO MÍNIMO DISTRIBUIÇÃO  \\\n",
       "12064                       0.02                      1651   \n",
       "12065                         36                    1.6643   \n",
       "12066                         68                      1.75   \n",
       "12067                         33                   1.70701   \n",
       "12068                         42                    1.6789   \n",
       "\n",
       "      PREÇO MÁXIMO DISTRIBUIÇÃO COEF DE VARIAÇÃO DISTRIBUIÇÃO  \n",
       "12064                    1.7427                            12  \n",
       "12065                      1915                            21  \n",
       "12066                    2.0713                            36  \n",
       "12067                    1.9703                            18  \n",
       "12068                      1918                            24  "
      ]
     },
     "execution_count": 9,
     "metadata": {},
     "output_type": "execute_result"
    }
   ],
   "source": [
    "c = df_separation[\"ESTADO\"].astype(\"category\")\n",
    "d = dict(enumerate(c.cat.categories))\n",
    "print(d)\n",
    "df_separation[\"ESTADO\"] = df_separation[\"ESTADO\"].astype(\"category\").cat.codes\n",
    "df_separation.head()"
   ]
  },
  {
   "cell_type": "code",
   "execution_count": 10,
   "metadata": {},
   "outputs": [],
   "source": [
    "df_separation[\"PREÇO MÉDIO REVENDA\"] = df_separation[\"PREÇO MÉDIO REVENDA\"].astype(\"int32\")\n",
    "df_separation[\"PREÇO MÉDIO REVENDA\"] = df_separation[\"PREÇO MÉDIO REVENDA\"].apply(lambda x: x/1000 if x>10 else x)"
   ]
  },
  {
   "cell_type": "code",
   "execution_count": 11,
   "metadata": {
    "scrolled": true
   },
   "outputs": [],
   "source": [
    "df_separation[\"DESVIO PADRÃO REVENDA\"] = df_separation[\"DESVIO PADRÃO REVENDA\"].astype(str)\n",
    "df_separation = df_separation[df_separation[\"DESVIO PADRÃO REVENDA\"] != \"-\"]\n",
    "df_separation[\"DESVIO PADRÃO REVENDA\"] = df_separation[\"DESVIO PADRÃO REVENDA\"].str.replace(',', '.')\n",
    "df_separation[\"DESVIO PADRÃO REVENDA\"] = df_separation[\"DESVIO PADRÃO REVENDA\"].astype(\"float\")\n",
    "df_separation[\"DESVIO PADRÃO REVENDA\"] = df_separation[\"DESVIO PADRÃO REVENDA\"].apply(lambda x: x/1000 if x>5 else x)"
   ]
  },
  {
   "cell_type": "code",
   "execution_count": 12,
   "metadata": {},
   "outputs": [],
   "source": [
    "df_separation[\"PREÇO MÍNIMO REVENDA\"] = df_separation[\"PREÇO MÍNIMO REVENDA\"].astype(str)\n",
    "df_separation = df_separation[df_separation[\"PREÇO MÍNIMO REVENDA\"] != \"-\"]\n",
    "df_separation[\"PREÇO MÍNIMO REVENDA\"] = df_separation[\"PREÇO MÍNIMO REVENDA\"].str.replace(',', '.')\n",
    "df_separation[\"PREÇO MÍNIMO REVENDA\"] = df_separation[\"PREÇO MÍNIMO REVENDA\"].astype(\"float\")\n",
    "df_separation[\"PREÇO MÍNIMO REVENDA\"] = df_separation[\"PREÇO MÍNIMO REVENDA\"].apply(lambda x: x/1000 if x>10 else x)"
   ]
  },
  {
   "cell_type": "code",
   "execution_count": 13,
   "metadata": {},
   "outputs": [],
   "source": [
    "df_separation[\"PREÇO MÁXIMO REVENDA\"] = df_separation[\"PREÇO MÁXIMO REVENDA\"].astype(str)\n",
    "df_separation = df_separation[df_separation[\"PREÇO MÁXIMO REVENDA\"] != \"-\"]\n",
    "df_separation[\"PREÇO MÁXIMO REVENDA\"] = df_separation[\"PREÇO MÁXIMO REVENDA\"].str.replace(',', '.')\n",
    "df_separation[\"PREÇO MÁXIMO REVENDA\"] = df_separation[\"PREÇO MÁXIMO REVENDA\"].astype(\"float\")\n",
    "df_separation[\"PREÇO MÁXIMO REVENDA\"] = df_separation[\"PREÇO MÁXIMO REVENDA\"].apply(lambda x: x/1000 if x>10 else x)"
   ]
  },
  {
   "cell_type": "code",
   "execution_count": 14,
   "metadata": {},
   "outputs": [],
   "source": [
    "df_separation[\"MARGEM MÉDIA REVENDA\"] = df_separation[\"MARGEM MÉDIA REVENDA\"].astype(str)\n",
    "df_separation = df_separation[df_separation[\"MARGEM MÉDIA REVENDA\"] != \"-\"]\n",
    "df_separation[\"MARGEM MÉDIA REVENDA\"] = df_separation[\"MARGEM MÉDIA REVENDA\"].str.replace(',', '.')\n",
    "df_separation[\"MARGEM MÉDIA REVENDA\"] = df_separation[\"MARGEM MÉDIA REVENDA\"].astype(\"float\")\n",
    "df_separation[\"MARGEM MÉDIA REVENDA\"] = df_separation[\"MARGEM MÉDIA REVENDA\"].apply(lambda x: x/1000 if x>10 else x)"
   ]
  },
  {
   "cell_type": "code",
   "execution_count": 15,
   "metadata": {},
   "outputs": [],
   "source": [
    "df_separation[\"COEF DE VARIAÇÃO REVENDA\"] = df_separation[\"COEF DE VARIAÇÃO REVENDA\"].astype(str)\n",
    "df_separation = df_separation[df_separation[\"COEF DE VARIAÇÃO REVENDA\"] != \"-\"]\n",
    "df_separation[\"COEF DE VARIAÇÃO REVENDA\"] = df_separation[\"COEF DE VARIAÇÃO REVENDA\"].str.replace(',', '.')\n",
    "df_separation[\"COEF DE VARIAÇÃO REVENDA\"] = df_separation[\"COEF DE VARIAÇÃO REVENDA\"].astype(\"float\")\n",
    "df_separation[\"COEF DE VARIAÇÃO REVENDA\"] = df_separation[\"COEF DE VARIAÇÃO REVENDA\"].apply(lambda x: x/1000 if x>10 else x)"
   ]
  },
  {
   "cell_type": "code",
   "execution_count": 16,
   "metadata": {},
   "outputs": [],
   "source": [
    "df_separation[\"PREÇO MÉDIO DISTRIBUIÇÃO\"] = df_separation[\"PREÇO MÉDIO DISTRIBUIÇÃO\"].astype(str)\n",
    "df_separation = df_separation[df_separation[\"PREÇO MÉDIO DISTRIBUIÇÃO\"] != \"-\"]\n",
    "df_separation[\"PREÇO MÉDIO DISTRIBUIÇÃO\"] = df_separation[\"PREÇO MÉDIO DISTRIBUIÇÃO\"].str.replace(',', '.')\n",
    "df_separation[\"PREÇO MÉDIO DISTRIBUIÇÃO\"] = df_separation[\"PREÇO MÉDIO DISTRIBUIÇÃO\"].astype(\"float\")\n",
    "df_separation[\"PREÇO MÉDIO DISTRIBUIÇÃO\"] = df_separation[\"PREÇO MÉDIO DISTRIBUIÇÃO\"].apply(lambda x: x/1000 if x>10 else x)"
   ]
  },
  {
   "cell_type": "code",
   "execution_count": 17,
   "metadata": {
    "scrolled": true
   },
   "outputs": [],
   "source": [
    "df_separation[\"DESVIO PADRÃO DISTRIBUIÇÃO\"] = df_separation[\"DESVIO PADRÃO DISTRIBUIÇÃO\"].astype(str)\n",
    "df_separation = df_separation[df_separation[\"DESVIO PADRÃO DISTRIBUIÇÃO\"] != \"-\"]\n",
    "df_separation[\"DESVIO PADRÃO DISTRIBUIÇÃO\"] = df_separation[\"DESVIO PADRÃO DISTRIBUIÇÃO\"].str.replace(',', '.')\n",
    "df_separation[\"DESVIO PADRÃO DISTRIBUIÇÃO\"] = df_separation[\"DESVIO PADRÃO DISTRIBUIÇÃO\"].astype(\"float\")\n",
    "df_separation[\"DESVIO PADRÃO DISTRIBUIÇÃO\"] = df_separation[\"DESVIO PADRÃO DISTRIBUIÇÃO\"].apply(lambda x: x/1000 if x>5 else x)"
   ]
  },
  {
   "cell_type": "code",
   "execution_count": 18,
   "metadata": {},
   "outputs": [],
   "source": [
    "df_separation[\"PREÇO MÍNIMO DISTRIBUIÇÃO\"] = df_separation[\"PREÇO MÍNIMO DISTRIBUIÇÃO\"].astype(str)\n",
    "df_separation = df_separation[df_separation[\"PREÇO MÍNIMO DISTRIBUIÇÃO\"] != \"-\"]\n",
    "df_separation[\"PREÇO MÍNIMO DISTRIBUIÇÃO\"] = df_separation[\"PREÇO MÍNIMO DISTRIBUIÇÃO\"].str.replace(',', '.')\n",
    "df_separation[\"PREÇO MÍNIMO DISTRIBUIÇÃO\"] = df_separation[\"PREÇO MÍNIMO DISTRIBUIÇÃO\"].astype(\"float\")\n",
    "df_separation[\"PREÇO MÍNIMO DISTRIBUIÇÃO\"] = df_separation[\"PREÇO MÍNIMO DISTRIBUIÇÃO\"].apply(lambda x: x/1000 if x>10 else x)"
   ]
  },
  {
   "cell_type": "code",
   "execution_count": 19,
   "metadata": {},
   "outputs": [],
   "source": [
    "df_separation[\"PREÇO MÁXIMO DISTRIBUIÇÃO\"] = df_separation[\"PREÇO MÁXIMO DISTRIBUIÇÃO\"].astype(str)\n",
    "df_separation = df_separation[df_separation[\"PREÇO MÁXIMO DISTRIBUIÇÃO\"] != \"-\"]\n",
    "df_separation[\"PREÇO MÁXIMO DISTRIBUIÇÃO\"] = df_separation[\"PREÇO MÁXIMO DISTRIBUIÇÃO\"].str.replace(',', '.')\n",
    "df_separation[\"PREÇO MÁXIMO DISTRIBUIÇÃO\"] = df_separation[\"PREÇO MÁXIMO DISTRIBUIÇÃO\"].astype(\"float\")\n",
    "df_separation[\"PREÇO MÁXIMO DISTRIBUIÇÃO\"] = df_separation[\"PREÇO MÁXIMO DISTRIBUIÇÃO\"].apply(lambda x: x/1000 if x>10 else x)"
   ]
  },
  {
   "cell_type": "code",
   "execution_count": 20,
   "metadata": {},
   "outputs": [],
   "source": [
    "df_separation[\"COEF DE VARIAÇÃO DISTRIBUIÇÃO\"] = df_separation[\"COEF DE VARIAÇÃO DISTRIBUIÇÃO\"].astype(str)\n",
    "df_separation = df_separation[df_separation[\"COEF DE VARIAÇÃO DISTRIBUIÇÃO\"] != \"-\"]\n",
    "df_separation[\"COEF DE VARIAÇÃO DISTRIBUIÇÃO\"] = df_separation[\"COEF DE VARIAÇÃO DISTRIBUIÇÃO\"].str.replace(',', '.')\n",
    "df_separation[\"COEF DE VARIAÇÃO DISTRIBUIÇÃO\"] = df_separation[\"COEF DE VARIAÇÃO DISTRIBUIÇÃO\"].astype(\"float\")\n",
    "df_separation[\"COEF DE VARIAÇÃO DISTRIBUIÇÃO\"] = df_separation[\"COEF DE VARIAÇÃO DISTRIBUIÇÃO\"].apply(lambda x: x/1000 if x>10 else x)"
   ]
  },
  {
   "cell_type": "code",
   "execution_count": 21,
   "metadata": {},
   "outputs": [],
   "source": [
    "df_separation[\"DATA INICIAL\"] = pd.to_datetime(df_separation[\"DATA INICIAL\"], infer_datetime_format=True)\n"
   ]
  },
  {
   "cell_type": "code",
   "execution_count": 22,
   "metadata": {},
   "outputs": [
    {
     "data": {
      "text/html": [
       "<div>\n",
       "<style scoped>\n",
       "    .dataframe tbody tr th:only-of-type {\n",
       "        vertical-align: middle;\n",
       "    }\n",
       "\n",
       "    .dataframe tbody tr th {\n",
       "        vertical-align: top;\n",
       "    }\n",
       "\n",
       "    .dataframe thead th {\n",
       "        text-align: right;\n",
       "    }\n",
       "</style>\n",
       "<table border=\"1\" class=\"dataframe\">\n",
       "  <thead>\n",
       "    <tr style=\"text-align: right;\">\n",
       "      <th></th>\n",
       "      <th>DATA INICIAL</th>\n",
       "      <th>REGIÃO</th>\n",
       "      <th>ESTADO</th>\n",
       "      <th>PRODUTO</th>\n",
       "      <th>PREÇO MÉDIO REVENDA</th>\n",
       "      <th>DESVIO PADRÃO REVENDA</th>\n",
       "      <th>PREÇO MÍNIMO REVENDA</th>\n",
       "      <th>PREÇO MÁXIMO REVENDA</th>\n",
       "      <th>MARGEM MÉDIA REVENDA</th>\n",
       "      <th>COEF DE VARIAÇÃO REVENDA</th>\n",
       "      <th>PREÇO MÉDIO DISTRIBUIÇÃO</th>\n",
       "      <th>DESVIO PADRÃO DISTRIBUIÇÃO</th>\n",
       "      <th>PREÇO MÍNIMO DISTRIBUIÇÃO</th>\n",
       "      <th>PREÇO MÁXIMO DISTRIBUIÇÃO</th>\n",
       "      <th>COEF DE VARIAÇÃO DISTRIBUIÇÃO</th>\n",
       "    </tr>\n",
       "  </thead>\n",
       "  <tbody>\n",
       "    <tr>\n",
       "      <th>12064</th>\n",
       "      <td>2004-09-05</td>\n",
       "      <td>0</td>\n",
       "      <td>6</td>\n",
       "      <td>GASOLINA COMUM</td>\n",
       "      <td>2.029</td>\n",
       "      <td>0.007</td>\n",
       "      <td>1.99</td>\n",
       "      <td>2.070</td>\n",
       "      <td>0.318</td>\n",
       "      <td>3.000</td>\n",
       "      <td>1.711</td>\n",
       "      <td>0.020</td>\n",
       "      <td>1.65100</td>\n",
       "      <td>1.7427</td>\n",
       "      <td>0.012</td>\n",
       "    </tr>\n",
       "    <tr>\n",
       "      <th>12065</th>\n",
       "      <td>2004-09-05</td>\n",
       "      <td>0</td>\n",
       "      <td>8</td>\n",
       "      <td>GASOLINA COMUM</td>\n",
       "      <td>2.025</td>\n",
       "      <td>0.062</td>\n",
       "      <td>1.85</td>\n",
       "      <td>2.220</td>\n",
       "      <td>0.296</td>\n",
       "      <td>0.031</td>\n",
       "      <td>1.729</td>\n",
       "      <td>0.036</td>\n",
       "      <td>1.66430</td>\n",
       "      <td>1.9150</td>\n",
       "      <td>0.021</td>\n",
       "    </tr>\n",
       "    <tr>\n",
       "      <th>12066</th>\n",
       "      <td>2004-09-05</td>\n",
       "      <td>0</td>\n",
       "      <td>10</td>\n",
       "      <td>GASOLINA COMUM</td>\n",
       "      <td>2.358</td>\n",
       "      <td>0.066</td>\n",
       "      <td>2.00</td>\n",
       "      <td>2.540</td>\n",
       "      <td>0.472</td>\n",
       "      <td>0.028</td>\n",
       "      <td>1.886</td>\n",
       "      <td>0.068</td>\n",
       "      <td>1.75000</td>\n",
       "      <td>2.0713</td>\n",
       "      <td>0.036</td>\n",
       "    </tr>\n",
       "    <tr>\n",
       "      <th>12067</th>\n",
       "      <td>2004-09-05</td>\n",
       "      <td>0</td>\n",
       "      <td>11</td>\n",
       "      <td>GASOLINA COMUM</td>\n",
       "      <td>2.000</td>\n",
       "      <td>0.075</td>\n",
       "      <td>1.97</td>\n",
       "      <td>2.440</td>\n",
       "      <td>0.325</td>\n",
       "      <td>0.035</td>\n",
       "      <td>1.795</td>\n",
       "      <td>0.033</td>\n",
       "      <td>1.70701</td>\n",
       "      <td>1.9703</td>\n",
       "      <td>0.018</td>\n",
       "    </tr>\n",
       "    <tr>\n",
       "      <th>12068</th>\n",
       "      <td>2004-09-05</td>\n",
       "      <td>1</td>\n",
       "      <td>1</td>\n",
       "      <td>GASOLINA COMUM</td>\n",
       "      <td>2.000</td>\n",
       "      <td>0.034</td>\n",
       "      <td>2.00</td>\n",
       "      <td>2.159</td>\n",
       "      <td>0.350</td>\n",
       "      <td>0.016</td>\n",
       "      <td>1.740</td>\n",
       "      <td>0.042</td>\n",
       "      <td>1.67890</td>\n",
       "      <td>1.9180</td>\n",
       "      <td>0.024</td>\n",
       "    </tr>\n",
       "  </tbody>\n",
       "</table>\n",
       "</div>"
      ],
      "text/plain": [
       "      DATA INICIAL  REGIÃO  ESTADO         PRODUTO  PREÇO MÉDIO REVENDA  \\\n",
       "12064   2004-09-05       0       6  GASOLINA COMUM                2.029   \n",
       "12065   2004-09-05       0       8  GASOLINA COMUM                2.025   \n",
       "12066   2004-09-05       0      10  GASOLINA COMUM                2.358   \n",
       "12067   2004-09-05       0      11  GASOLINA COMUM                2.000   \n",
       "12068   2004-09-05       1       1  GASOLINA COMUM                2.000   \n",
       "\n",
       "       DESVIO PADRÃO REVENDA  PREÇO MÍNIMO REVENDA  PREÇO MÁXIMO REVENDA  \\\n",
       "12064                  0.007                  1.99                 2.070   \n",
       "12065                  0.062                  1.85                 2.220   \n",
       "12066                  0.066                  2.00                 2.540   \n",
       "12067                  0.075                  1.97                 2.440   \n",
       "12068                  0.034                  2.00                 2.159   \n",
       "\n",
       "       MARGEM MÉDIA REVENDA  COEF DE VARIAÇÃO REVENDA  \\\n",
       "12064                 0.318                     3.000   \n",
       "12065                 0.296                     0.031   \n",
       "12066                 0.472                     0.028   \n",
       "12067                 0.325                     0.035   \n",
       "12068                 0.350                     0.016   \n",
       "\n",
       "       PREÇO MÉDIO DISTRIBUIÇÃO  DESVIO PADRÃO DISTRIBUIÇÃO  \\\n",
       "12064                     1.711                       0.020   \n",
       "12065                     1.729                       0.036   \n",
       "12066                     1.886                       0.068   \n",
       "12067                     1.795                       0.033   \n",
       "12068                     1.740                       0.042   \n",
       "\n",
       "       PREÇO MÍNIMO DISTRIBUIÇÃO  PREÇO MÁXIMO DISTRIBUIÇÃO  \\\n",
       "12064                    1.65100                     1.7427   \n",
       "12065                    1.66430                     1.9150   \n",
       "12066                    1.75000                     2.0713   \n",
       "12067                    1.70701                     1.9703   \n",
       "12068                    1.67890                     1.9180   \n",
       "\n",
       "       COEF DE VARIAÇÃO DISTRIBUIÇÃO  \n",
       "12064                          0.012  \n",
       "12065                          0.021  \n",
       "12066                          0.036  \n",
       "12067                          0.018  \n",
       "12068                          0.024  "
      ]
     },
     "execution_count": 22,
     "metadata": {},
     "output_type": "execute_result"
    }
   ],
   "source": [
    "df_separation.head()"
   ]
  },
  {
   "cell_type": "markdown",
   "metadata": {},
   "source": [
    "# Separando os datas frames\n",
    "Para um primeiro teste apenas a região susdeste será utilizada"
   ]
  },
  {
   "cell_type": "code",
   "execution_count": 23,
   "metadata": {},
   "outputs": [],
   "source": [
    "df_sp = df_separation[df_separation[\"ESTADO\"]== 24]"
   ]
  },
  {
   "cell_type": "code",
   "execution_count": 24,
   "metadata": {},
   "outputs": [],
   "source": [
    "df_sp.set_index(\"DATA INICIAL\",inplace=True)"
   ]
  },
  {
   "cell_type": "code",
   "execution_count": 25,
   "metadata": {},
   "outputs": [],
   "source": [
    "df_sp.drop(\"ESTADO\",axis=1, inplace=True)"
   ]
  },
  {
   "cell_type": "code",
   "execution_count": 26,
   "metadata": {},
   "outputs": [],
   "source": [
    "df_sp.drop(\"REGIÃO\",axis=1, inplace=True)"
   ]
  },
  {
   "cell_type": "code",
   "execution_count": 27,
   "metadata": {},
   "outputs": [],
   "source": [
    "df_sp.drop(\"PRODUTO\",axis=1, inplace=True)"
   ]
  },
  {
   "cell_type": "code",
   "execution_count": 28,
   "metadata": {},
   "outputs": [
    {
     "data": {
      "text/html": [
       "<div>\n",
       "<style scoped>\n",
       "    .dataframe tbody tr th:only-of-type {\n",
       "        vertical-align: middle;\n",
       "    }\n",
       "\n",
       "    .dataframe tbody tr th {\n",
       "        vertical-align: top;\n",
       "    }\n",
       "\n",
       "    .dataframe thead th {\n",
       "        text-align: right;\n",
       "    }\n",
       "</style>\n",
       "<table border=\"1\" class=\"dataframe\">\n",
       "  <thead>\n",
       "    <tr style=\"text-align: right;\">\n",
       "      <th></th>\n",
       "      <th>PREÇO MÉDIO REVENDA</th>\n",
       "      <th>DESVIO PADRÃO REVENDA</th>\n",
       "      <th>PREÇO MÍNIMO REVENDA</th>\n",
       "      <th>PREÇO MÁXIMO REVENDA</th>\n",
       "      <th>MARGEM MÉDIA REVENDA</th>\n",
       "      <th>COEF DE VARIAÇÃO REVENDA</th>\n",
       "      <th>PREÇO MÉDIO DISTRIBUIÇÃO</th>\n",
       "      <th>DESVIO PADRÃO DISTRIBUIÇÃO</th>\n",
       "      <th>PREÇO MÍNIMO DISTRIBUIÇÃO</th>\n",
       "      <th>PREÇO MÁXIMO DISTRIBUIÇÃO</th>\n",
       "      <th>COEF DE VARIAÇÃO DISTRIBUIÇÃO</th>\n",
       "    </tr>\n",
       "    <tr>\n",
       "      <th>DATA INICIAL</th>\n",
       "      <th></th>\n",
       "      <th></th>\n",
       "      <th></th>\n",
       "      <th></th>\n",
       "      <th></th>\n",
       "      <th></th>\n",
       "      <th></th>\n",
       "      <th></th>\n",
       "      <th></th>\n",
       "      <th></th>\n",
       "      <th></th>\n",
       "    </tr>\n",
       "  </thead>\n",
       "  <tbody>\n",
       "    <tr>\n",
       "      <th>2004-09-05</th>\n",
       "      <td>1.891</td>\n",
       "      <td>0.101</td>\n",
       "      <td>1.570</td>\n",
       "      <td>2.399</td>\n",
       "      <td>0.235</td>\n",
       "      <td>0.053</td>\n",
       "      <td>1.656</td>\n",
       "      <td>0.064</td>\n",
       "      <td>1.38</td>\n",
       "      <td>1.9440</td>\n",
       "      <td>0.039</td>\n",
       "    </tr>\n",
       "    <tr>\n",
       "      <th>2004-05-16</th>\n",
       "      <td>1.888</td>\n",
       "      <td>0.101</td>\n",
       "      <td>1.540</td>\n",
       "      <td>2.220</td>\n",
       "      <td>0.233</td>\n",
       "      <td>0.053</td>\n",
       "      <td>1.655</td>\n",
       "      <td>0.063</td>\n",
       "      <td>1.38</td>\n",
       "      <td>1.9319</td>\n",
       "      <td>0.038</td>\n",
       "    </tr>\n",
       "    <tr>\n",
       "      <th>2004-05-23</th>\n",
       "      <td>1.894</td>\n",
       "      <td>0.095</td>\n",
       "      <td>1.570</td>\n",
       "      <td>2.399</td>\n",
       "      <td>0.234</td>\n",
       "      <td>0.050</td>\n",
       "      <td>1.660</td>\n",
       "      <td>0.065</td>\n",
       "      <td>1.39</td>\n",
       "      <td>1.9291</td>\n",
       "      <td>0.039</td>\n",
       "    </tr>\n",
       "    <tr>\n",
       "      <th>2004-05-30</th>\n",
       "      <td>1.912</td>\n",
       "      <td>0.094</td>\n",
       "      <td>1.529</td>\n",
       "      <td>2.199</td>\n",
       "      <td>0.235</td>\n",
       "      <td>0.049</td>\n",
       "      <td>1.677</td>\n",
       "      <td>0.068</td>\n",
       "      <td>1.39</td>\n",
       "      <td>1.9733</td>\n",
       "      <td>0.041</td>\n",
       "    </tr>\n",
       "    <tr>\n",
       "      <th>2004-06-06</th>\n",
       "      <td>1.919</td>\n",
       "      <td>0.088</td>\n",
       "      <td>1.580</td>\n",
       "      <td>2.399</td>\n",
       "      <td>0.231</td>\n",
       "      <td>0.046</td>\n",
       "      <td>1.688</td>\n",
       "      <td>0.063</td>\n",
       "      <td>1.41</td>\n",
       "      <td>2.0946</td>\n",
       "      <td>0.037</td>\n",
       "    </tr>\n",
       "  </tbody>\n",
       "</table>\n",
       "</div>"
      ],
      "text/plain": [
       "              PREÇO MÉDIO REVENDA  DESVIO PADRÃO REVENDA  \\\n",
       "DATA INICIAL                                               \n",
       "2004-09-05                  1.891                  0.101   \n",
       "2004-05-16                  1.888                  0.101   \n",
       "2004-05-23                  1.894                  0.095   \n",
       "2004-05-30                  1.912                  0.094   \n",
       "2004-06-06                  1.919                  0.088   \n",
       "\n",
       "              PREÇO MÍNIMO REVENDA  PREÇO MÁXIMO REVENDA  \\\n",
       "DATA INICIAL                                               \n",
       "2004-09-05                   1.570                 2.399   \n",
       "2004-05-16                   1.540                 2.220   \n",
       "2004-05-23                   1.570                 2.399   \n",
       "2004-05-30                   1.529                 2.199   \n",
       "2004-06-06                   1.580                 2.399   \n",
       "\n",
       "              MARGEM MÉDIA REVENDA  COEF DE VARIAÇÃO REVENDA  \\\n",
       "DATA INICIAL                                                   \n",
       "2004-09-05                   0.235                     0.053   \n",
       "2004-05-16                   0.233                     0.053   \n",
       "2004-05-23                   0.234                     0.050   \n",
       "2004-05-30                   0.235                     0.049   \n",
       "2004-06-06                   0.231                     0.046   \n",
       "\n",
       "              PREÇO MÉDIO DISTRIBUIÇÃO  DESVIO PADRÃO DISTRIBUIÇÃO  \\\n",
       "DATA INICIAL                                                         \n",
       "2004-09-05                       1.656                       0.064   \n",
       "2004-05-16                       1.655                       0.063   \n",
       "2004-05-23                       1.660                       0.065   \n",
       "2004-05-30                       1.677                       0.068   \n",
       "2004-06-06                       1.688                       0.063   \n",
       "\n",
       "              PREÇO MÍNIMO DISTRIBUIÇÃO  PREÇO MÁXIMO DISTRIBUIÇÃO  \\\n",
       "DATA INICIAL                                                         \n",
       "2004-09-05                         1.38                     1.9440   \n",
       "2004-05-16                         1.38                     1.9319   \n",
       "2004-05-23                         1.39                     1.9291   \n",
       "2004-05-30                         1.39                     1.9733   \n",
       "2004-06-06                         1.41                     2.0946   \n",
       "\n",
       "              COEF DE VARIAÇÃO DISTRIBUIÇÃO  \n",
       "DATA INICIAL                                 \n",
       "2004-09-05                            0.039  \n",
       "2004-05-16                            0.038  \n",
       "2004-05-23                            0.039  \n",
       "2004-05-30                            0.041  \n",
       "2004-06-06                            0.037  "
      ]
     },
     "execution_count": 28,
     "metadata": {},
     "output_type": "execute_result"
    }
   ],
   "source": [
    "df_sp.head()"
   ]
  },
  {
   "cell_type": "code",
   "execution_count": 29,
   "metadata": {},
   "outputs": [
    {
     "data": {
      "image/png": "[encoded data removed]",
      "text/plain": [
       "<Figure size 1008x504 with 1 Axes>"
      ]
     },
     "metadata": {
      "needs_background": "light"
     },
     "output_type": "display_data"
    }
   ],
   "source": [
    "fig, ax = plt.subplots(figsize=(14, 7))\n",
    "df_sp[\"PREÇO MÉDIO REVENDA\"].plot()\n",
    "plt.xlabel(\"Período [Anos]\")\n",
    "plt.ylabel(\"Valor [R$/L]\")\n",
    "ax.spines['top'].set_visible(False)\n",
    "ax.spines['right'].set_visible(False)\n",
    "ax.grid(color='grey', linestyle='-', linewidth=0.25, alpha=0.5)\n",
    "plt.show()"
   ]
  },
  {
   "cell_type": "markdown",
   "metadata": {},
   "source": [
    "# Escolhendo as *Features*"
   ]
  },
  {
   "cell_type": "code",
   "execution_count": 30,
   "metadata": {},
   "outputs": [
    {
     "data": {
      "image/png": "[encoded data removed]",
      "text/plain": [
       "<Figure size 576x576 with 2 Axes>"
      ]
     },
     "metadata": {
      "needs_background": "light"
     },
     "output_type": "display_data"
    }
   ],
   "source": [
    "\n",
    "plt.figure(figsize=(8,8))\n",
    "#plot heat map\n",
    "g=sns.heatmap(df_sp.corr(),annot=True, cmap=\"RdYlGn\")\n",
    "# plt.subplots_adjust(bottom=0.28)\n",
    "plt.show()"
   ]
  },
  {
   "cell_type": "code",
   "execution_count": 31,
   "metadata": {},
   "outputs": [],
   "source": [
    "# df_sp = df_sp.drop([\"COEF DE VARIAÇÃO REVENDA\",\"COEF DE VARIAÇÃO DISTRIBUIÇÃO\"], axis=1)"
   ]
  },
  {
   "cell_type": "markdown",
   "metadata": {},
   "source": [
    "# Separando os valores para treinamento\n",
    "A seguir os valores serão dividos em *features* e *labels*, sendo x e y as respectivas variáveis a sereum utilizadas para esse processo"
   ]
  },
  {
   "cell_type": "code",
   "execution_count": 32,
   "metadata": {},
   "outputs": [],
   "source": [
    "df_sp['label'] = df_sp[\"PREÇO MÉDIO REVENDA\"]"
   ]
  },
  {
   "cell_type": "code",
   "execution_count": 33,
   "metadata": {},
   "outputs": [],
   "source": [
    "x = np.array(df_sp.drop('label', axis=1))\n",
    "x = preprocessing.normalize(x)\n",
    "y = np.array(df_sp['label'])"
   ]
  },
  {
   "cell_type": "code",
   "execution_count": 34,
   "metadata": {},
   "outputs": [],
   "source": [
    "x_train, x_test, y_train, y_test = train_test_split(x,y, test_size=0.2, random_state=0)"
   ]
  },
  {
   "cell_type": "code",
   "execution_count": 36,
   "metadata": {},
   "outputs": [],
   "source": [
    "x_predc = x[-30:]\n",
    "df_forecast = df_sp[[\"PREÇO MÉDIO REVENDA\"]][-30:]\n"
   ]
  },
  {
   "cell_type": "markdown",
   "metadata": {},
   "source": [
    "### Linear Regreation"
   ]
  },
  {
   "cell_type": "code",
   "execution_count": 37,
   "metadata": {},
   "outputs": [],
   "source": [
    "rgr = LinearRegression()"
   ]
  },
  {
   "cell_type": "code",
   "execution_count": 38,
   "metadata": {},
   "outputs": [
    {
     "name": "stdout",
     "output_type": "stream",
     "text": [
      "0.9646091187396322 [-0.98994371  0.24168181  0.8107551   0.93914985  0.31946944]\n"
     ]
    }
   ],
   "source": [
    "rgr.fit(x_train,y_train)\n",
    "accuracy = rgr.score(x_test, y_test)\n",
    "scores = cross_val_score(rgr, x, y, cv=5)\n",
    "forecast_set_linear = rgr.predict(x_predc)\n",
    "print(accuracy, scores)"
   ]
  },
  {
   "cell_type": "code",
   "execution_count": 39,
   "metadata": {},
   "outputs": [],
   "source": [
    "df_forecast[\"Linear Regression\"] = forecast_set_linear"
   ]
  },
  {
   "cell_type": "markdown",
   "metadata": {},
   "source": [
    "### SVR"
   ]
  },
  {
   "cell_type": "code",
   "execution_count": 40,
   "metadata": {},
   "outputs": [],
   "source": [
    "rgr = svm.SVR(kernel='linear',C=1.0, cache_size=300, coef0=0.0, epsilon=0.1, gamma='scale', max_iter=-1, shrinking=True, tol=0.001, verbose=False)"
   ]
  },
  {
   "cell_type": "code",
   "execution_count": 41,
   "metadata": {},
   "outputs": [
    {
     "name": "stdout",
     "output_type": "stream",
     "text": [
      "-0.09751590530038667 [ -7.05801467  -8.72982195   0.32191365  -1.40470495 -11.46763522]\n"
     ]
    }
   ],
   "source": [
    "rgr.fit(x_train,y_train)\n",
    "accuracy = rgr.score(x_test, y_test)\n",
    "scores = cross_val_score(rgr, x, y, cv=5)\n",
    "forecast_set_SVR_linear = rgr.predict(x_predc)\n",
    "print(accuracy, scores)"
   ]
  },
  {
   "cell_type": "code",
   "execution_count": 42,
   "metadata": {},
   "outputs": [],
   "source": [
    "df_forecast[\"SVR kernel=linear\"] = forecast_set_SVR_linear"
   ]
  },
  {
   "cell_type": "markdown",
   "metadata": {},
   "source": [
    "### Ridge"
   ]
  },
  {
   "cell_type": "code",
   "execution_count": 43,
   "metadata": {},
   "outputs": [],
   "source": [
    "rgr = Ridge()"
   ]
  },
  {
   "cell_type": "code",
   "execution_count": 44,
   "metadata": {},
   "outputs": [
    {
     "name": "stdout",
     "output_type": "stream",
     "text": [
      "0.036890259788052715 [-14.10181703 -20.9719846   -1.74524681  -0.19393586 -10.50018141]\n"
     ]
    }
   ],
   "source": [
    "rgr.fit(x_train,y_train)\n",
    "accuracy = rgr.score(x_test, y_test)\n",
    "scores = cross_val_score(rgr, x, y, cv=5)\n",
    "forecast_set_ridge = rgr.predict(x_predc)\n",
    "print(accuracy, scores)"
   ]
  },
  {
   "cell_type": "code",
   "execution_count": 45,
   "metadata": {},
   "outputs": [],
   "source": [
    "df_forecast[\"Ridge\"] = forecast_set_ridge"
   ]
  },
  {
   "cell_type": "markdown",
   "metadata": {},
   "source": [
    "### SVR"
   ]
  },
  {
   "cell_type": "code",
   "execution_count": 46,
   "metadata": {},
   "outputs": [],
   "source": [
    "rgr = svm.SVR(kernel='rbf',C=3, cache_size=200, coef0=0.0, degree=4, epsilon=0.3, gamma='scale', max_iter=-1, shrinking=False, tol=0.01, verbose=False)"
   ]
  },
  {
   "cell_type": "code",
   "execution_count": 47,
   "metadata": {},
   "outputs": [
    {
     "name": "stdout",
     "output_type": "stream",
     "text": [
      "0.13791340863888757 [-18.75051511 -23.55959529   0.20599399  -0.20119431 -10.41824364]\n"
     ]
    }
   ],
   "source": [
    "rgr.fit(x_train,y_train)\n",
    "accuracy = rgr.score(x_test, y_test)\n",
    "scores = cross_val_score(rgr, x, y, cv=5)\n",
    "forecast_set_SVR_radial = rgr.predict(x_predc)\n",
    "print(accuracy, scores)"
   ]
  },
  {
   "cell_type": "code",
   "execution_count": 48,
   "metadata": {},
   "outputs": [],
   "source": [
    "df_forecast[\"SVR kernel=rbf\"] = forecast_set_SVR_radial"
   ]
  },
  {
   "cell_type": "code",
   "execution_count": 49,
   "metadata": {},
   "outputs": [
    {
     "data": {
      "image/png": "[encoded data removed]",
      "text/plain": [
       "<Figure size 1008x504 with 1 Axes>"
      ]
     },
     "metadata": {
      "needs_background": "light"
     },
     "output_type": "display_data"
    }
   ],
   "source": [
    "fig, ax = plt.subplots(figsize=(14, 7))\n",
    "df_forecast[\"PREÇO MÉDIO REVENDA\"].plot()\n",
    "df_forecast[\"Linear Regression\"].plot()\n",
    "df_forecast[\"Ridge\"].plot()\n",
    "df_forecast[\"SVR kernel=linear\"].plot()\n",
    "df_forecast[\"SVR kernel=rbf\"].plot()\n",
    "plt.xlabel(\"Período [Ano-Mês]\")\n",
    "plt.ylabel(\"Valor [R$/L]\")\n",
    "ax.spines['top'].set_visible(False)\n",
    "ax.spines['right'].set_visible(False)\n",
    "ax.legend(df_forecast.columns)\n",
    "ax.grid(color='grey', linestyle='-', linewidth=0.25, alpha=0.5)\n",
    "plt.show()\n"
   ]
  }
 ],
 "metadata": {
  "kernelspec": {
   "display_name": "Python 3",
   "language": "python",
   "name": "python3"
  },
  "language_info": {
   "codemirror_mode": {
    "name": "ipython",
    "version": 3
   },
   "file_extension": ".py",
   "mimetype": "text/x-python",
   "name": "python",
   "nbconvert_exporter": "python",
   "pygments_lexer": "ipython3",
   "version": "3.7.3"
  }
 },
 "nbformat": 4,
 "nbformat_minor": 4
}
